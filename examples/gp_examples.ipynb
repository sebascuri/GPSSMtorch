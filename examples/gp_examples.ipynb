{
 "cells": [
  {
   "cell_type": "code",
   "execution_count": null,
   "metadata": {
    "pycharm": {
     "is_executing": false
    }
   },
   "outputs": [],
   "source": [
    "import torch\n",
    "import numpy as np \n",
    "from gpssm.models.gp import ExactGPModel, VariationalGP\n",
    "import gpytorch\n",
    "from gpytorch.likelihoods import GaussianLikelihood, FixedNoiseGaussianLikelihood\n",
    "from gpytorch.means import ConstantMean, ZeroMean\n",
    "from gpytorch.kernels import ScaleKernel, RBFKernel\n",
    "from gpytorch.mlls import ExactMarginalLogLikelihood, VariationalELBO\n",
    "from matplotlib import pyplot as plt\n",
    "\n",
    "%matplotlib inline\n",
    "%load_ext autoreload\n",
    "%autoreload 2"
   ]
  },
  {
   "cell_type": "code",
   "execution_count": null,
   "metadata": {},
   "outputs": [],
   "source": [
    "def plot_predictions(train_x, train_y, test_x, pred_y):\n",
    "    fig, axes = plt.subplots(dim_y, 1, figsize=(8,8))\n",
    "    for i in range(dim_y):\n",
    "        lower, upper = pred_y.confidence_region()\n",
    "        lower = lower.detach()\n",
    "        upper = upper.detach()\n",
    "        axes[i].plot(train_x[:, 0], train_y[i], 'k*')\n",
    "\n",
    "        idx = test_x[:, 0].argsort()\n",
    "        axes[i].plot(test_x[idx, 0], pred_y.mean[i, idx], 'b')\n",
    "        axes[i].fill_between(test_x[idx, 0], lower[i, idx], upper[i, idx], alpha=0.5)\n",
    "\n",
    "        axes[i].legend(['Observed Data', 'Mean', 'Confidence'])\n",
    "        axes[i].set_title('Observed Values (Likelihood)')\n",
    "\n",
    "        axes[i].set_xlabel('x')\n",
    "        axes[i].set_ylabel('y_{}'.format(i))\n",
    "    plt.show()\n",
    "    \n",
    "def plot_losses(losses):\n",
    "    plt.figure(figsize=(8, 4))\n",
    "    plt.plot(losses, 'k-')\n",
    "    plt.xlabel('Iteration Number')\n",
    "    plt.ylabel('Marginal Log-Likelihood')\n",
    "    plt.show()"
   ]
  },
  {
   "cell_type": "markdown",
   "metadata": {},
   "source": [
    "# Generate data"
   ]
  },
  {
   "cell_type": "code",
   "execution_count": null,
   "metadata": {
    "pycharm": {
     "is_executing": false,
     "name": "#%%\n"
    }
   },
   "outputs": [],
   "source": [
    "dim_x, dim_u = 2, 1\n",
    "dim_y = dim_x\n",
    "num_points = 128\n",
    "decoupled_outputs = True\n",
    "batch_size = dim_y if decoupled_outputs else 1\n",
    "xu = torch.randn((num_points, dim_x + dim_u))\n",
    "\n",
    "y1 = (torch.sin(np.pi * xu[:, 0]) + 0 * xu[:, 2] - 0 * xu[:, 1] ** 2).unsqueeze(dim=1)\n",
    "y2 = (torch.cos(np.pi / 5 * xu[:, 0]) - 0 * xu[:, 2] ** 2 + 0 * xu[:, 1]).unsqueeze(dim=1)\n",
    "y = torch.cat((y1, y2), dim=-1) + 0.1 * torch.randn((num_points, dim_y))\n",
    "\n",
    "y = y[:, :dim_y]\n",
    "y = y.t()\n",
    "\n",
    "train_xu, test_xu = xu[:(num_points // 2)], xu[(num_points // 2):]\n",
    "train_y, test_y = y[:, :(num_points // 2)], y[:, (num_points // 2):]\n",
    "\n",
    "fig, axes = plt.subplots(dim_y, 1, figsize=(8,8))\n",
    "for i in range(dim_y):\n",
    "    axes[i].plot(xu[:, 0], y[i], 'k*')\n",
    "    axes[i].set_xlabel('x_0')\n",
    "    axes[i].set_ylabel('y_{}'.format(i))\n",
    "    \n",
    "plt.show()"
   ]
  },
  {
   "cell_type": "markdown",
   "metadata": {},
   "source": [
    "# Exact GP Model \n",
    " "
   ]
  },
  {
   "cell_type": "code",
   "execution_count": null,
   "metadata": {
    "pycharm": {
     "is_executing": false,
     "name": "#%%\n"
    }
   },
   "outputs": [],
   "source": [
    "# Set up likelihood, mean, and Kernel functions.\n",
    "# likelihood = GaussianLikelihood(noise_prior=gpytorch.priors.SmoothedBoxPrior(0.01, 0.02), batch_size=dim_y)\n",
    "# mean = ConstantMean(batch_size=dim_y)\n",
    "# kernel = ScaleKernel(RBFKernel(ard_num_dims=dim_x + dim_u, batch_size=dim_y), batch_size=dim_y)\n",
    "\n",
    "likelihood = GaussianLikelihood(\n",
    "    batch_size=batch_size\n",
    "    # noise_prior=gpytorch.priors.NormalPrior(0.1, 0.1)\n",
    ")\n",
    "mean = ConstantMean(batch_size=batch_size)\n",
    "kernel = ScaleKernel(RBFKernel(ard_num_dims=dim_x + dim_u, \n",
    "                               batch_size=batch_size\n",
    "                               # lengthscale_prior=gpytorch.priors.GammaPrior(0.01, 0.1)\n",
    "                               ),\n",
    "                     batch_size=batch_size\n",
    "                     # outputscale_prior=gpytorch.priors.GammaPrior(0.2, 0.2)\n",
    "                     )\n",
    "\n",
    "\n",
    "# Initialize Model, Marginal Log-Likelihood, and Optimizer.\n",
    "model = ExactGPModel(train_xu, train_y, likelihood, mean, kernel)\n",
    "mll = ExactMarginalLogLikelihood(likelihood, model)\n",
    "optimizer = torch.optim.Adam([\n",
    "    {'params': model.parameters()},  # Includes GaussianLikelihood parameters.\n",
    "], lr=0.1)\n",
    "\n",
    "def train(training_iter):\n",
    "    # Set model and likelihood to training mode.\n",
    "    model.train()\n",
    "    likelihood.train()\n",
    "    losses = []\n",
    "\n",
    "    for i in range(training_iter):\n",
    "        # Zero gradients from previous iteration.\n",
    "        optimizer.zero_grad()\n",
    "\n",
    "        # Output from model.\n",
    "        pred_f = model(train_xu)\n",
    "\n",
    "        # Calc loss and backprop gradients.\n",
    "        loss = -mll(pred_f, train_y).sum()\n",
    "        loss.backward()\n",
    "        losses.append(loss.item())\n",
    "        \n",
    "        if i % 50 == 0:\n",
    "            print('Iter {}/{} - Loss: {}'.format(i + 1, training_iter, loss.item()))\n",
    "        optimizer.step()\n",
    "    \n",
    "    return losses \n",
    "\n",
    "def eval(test_x, test_y):\n",
    "    # Set model and likelihood to evaluation mode.\n",
    "    model.eval()\n",
    "    likelihood.eval()\n",
    "    with torch.no_grad():\n",
    "        pred_f = model(test_x) #.expand(dim_y, *test_data.shape))\n",
    "        loss = -mll(pred_f, test_y).sum()\n",
    "        pred_y = likelihood(pred_f)\n",
    "        print('MLL call:', loss.item()) \n",
    "        print('Direct Computation:', -pred_y.log_prob(test_y).sum().item() / (num_points // 2))\n",
    "    return likelihood(pred_f)\n",
    "        \n",
    "losses = train(200)\n",
    "pred_y = eval(test_xu, test_y)\n",
    "\n",
    "print(\n",
    "    likelihood.noise_covar.noise.detach(),\n",
    "    model.covar_module.outputscale.detach(),\n",
    "    model.covar_module.base_kernel.lengthscale.detach(),\n",
    ")"
   ]
  },
  {
   "cell_type": "code",
   "execution_count": null,
   "metadata": {
    "pycharm": {
     "is_executing": false,
     "name": "#%% \n"
    }
   },
   "outputs": [],
   "source": [
    "plot_losses(losses)\n",
    "plot_predictions(train_xu, train_y, test_xu, pred_y)"
   ]
  },
  {
   "cell_type": "markdown",
   "metadata": {},
   "source": [
    "# Variational GP Model "
   ]
  },
  {
   "cell_type": "code",
   "execution_count": null,
   "metadata": {
    "pycharm": {
     "is_executing": false,
     "name": "#%%\n"
    }
   },
   "outputs": [],
   "source": [
    "num_inducing_points = 25\n",
    "learn_inducing_loc = False\n",
    "# inducing_points = torch.linspace(-2, 2, num_inducing_points).unsqueeze(-1).repeat(dim_y, 1, dim_x + dim_u)\n",
    "inducing_points = torch.randn((dim_y, num_inducing_points, dim_x + dim_u))\n",
    "# noise = torch.tensor([0.1]).expand(dim_y, 1, 1)\n",
    "# print(noise.shape)\n",
    "likelihood = GaussianLikelihood(\n",
    "    batch_size=batch_size,\n",
    "    # noise=noise\n",
    "    # noise_prior=gpytorch.priors.GammaPrior(mean ** 2 / var, mean / var)\n",
    ")\n",
    "mean = ConstantMean(batch_size=batch_size,)\n",
    "kernel = ScaleKernel(RBFKernel(\n",
    "                                ard_num_dims=dim_x + dim_u, \n",
    "                               batch_size=batch_size,\n",
    "                               # lengthscale_prior=gpytorch.priors.GammaPrior(0.01, 0.1)\n",
    "                               ),\n",
    "                     # outputscale_prior=gpytorch.priors.GammaPrior(10, 10),\n",
    "                     batch_size=batch_size,\n",
    "                     )\n",
    "model = VariationalGP(inducing_points, mean, kernel, learn_inducing_loc)\n",
    "\n",
    "# hypers = {\n",
    "#     # 'likelihood.noise_covar.noise': torch.tensor(1.),\n",
    "#     'covar_module.base_kernel.lengthscale': torch.tensor(0.05),\n",
    "#     'covar_module.outputscale': torch.tensor(1.),\n",
    "# }\n",
    "# \n",
    "# model.initialize(**hypers)\n",
    "# likelihood.initialize(**{'noise_covar.noise': torch.tensor(0.1)})\n",
    "\n",
    "print(\n",
    "    likelihood.noise_covar.noise.detach(),\n",
    "    model.covar_module.outputscale.detach(),\n",
    "    model.covar_module.base_kernel.lengthscale.detach(),\n",
    ")\n",
    "\n",
    "optimizer = torch.optim.Adam([\n",
    "    {'params': model.parameters()}, # Does not include gaussian likelihood.\n",
    "    {'params': likelihood.parameters()} \n",
    "], lr=0.01)\n",
    "\n",
    "mll = VariationalELBO(likelihood, model, train_y.size(-1), combine_terms=False)\n",
    "\n",
    "def train(training_iter):\n",
    "    # Set model and likelihood to training mode.\n",
    "    model.train()\n",
    "    likelihood.train()\n",
    "    losses = []\n",
    "    \n",
    "    for i in range(training_iter):\n",
    "        # Zero gradients from previous iteration.\n",
    "        optimizer.zero_grad()\n",
    "        \n",
    "        # Output from model.\n",
    "        output = model(train_xu)\n",
    "        \n",
    "        # Calc loss and backprop gradients\n",
    "        log_lik, kl_div, log_prior = mll(output, train_y)\n",
    "        loss = -(log_lik - kl_div + log_prior).mean()\n",
    "        loss.backward()\n",
    "        losses.append(loss.item())\n",
    "        \n",
    "        if i % 50 == 0:\n",
    "            print('Iter %d - Loss: %.3f [%.3f, %.3f, %.3f]' % (\n",
    "                i + 1, loss.item(), log_lik.mean().item(), kl_div.mean().item(),\n",
    "                log_prior.mean().item()))\n",
    "        optimizer.step()\n",
    "    return losses \n",
    "        \n",
    "# EVALUATE!\n",
    "def eval(test_x, test_y):\n",
    "    model.eval()\n",
    "    likelihood.eval()\n",
    "    with torch.no_grad(), gpytorch.settings.fast_computations():\n",
    "        pred_f = model(test_x) #test_x.expand(dim_y, *test_x.shape))\n",
    "        pred_y = likelihood(pred_f)\n",
    "        log_lik, kl_div, log_prior = mll(pred_f, test_y)\n",
    "        loss = -(log_lik - kl_div + log_prior).mean()\n",
    "        print('MLL call:', loss.item(), log_lik.detach(), kl_div.detach(),\n",
    "              log_prior.detach())\n",
    "\n",
    "        print('Direct Computation:', likelihood.expected_log_prob(test_y, pred_f).detach() / (num_points // 2))\n",
    "        print('ExactLogLikelihood', likelihood(pred_f).log_prob(test_y).detach() / (num_points // 2))\n",
    "        \n",
    "        print('KL Divergence:', model.variational_strategy.kl_divergence() / (num_points // 2))\n",
    "    \n",
    "    return pred_y\n",
    "\n",
    "losses = train(200)\n",
    "pred_y = eval(test_xu, test_y)"
   ]
  },
  {
   "cell_type": "code",
   "execution_count": null,
   "metadata": {},
   "outputs": [],
   "source": []
  },
  {
   "cell_type": "code",
   "execution_count": null,
   "metadata": {},
   "outputs": [],
   "source": []
  },
  {
   "cell_type": "code",
   "execution_count": null,
   "metadata": {
    "pycharm": {
     "is_executing": false,
     "name": "#%% \n"
    }
   },
   "outputs": [],
   "source": [
    "plot_losses(losses)\n",
    "plot_predictions(train_xu, train_y, test_xu, pred_y)"
   ]
  },
  {
   "cell_type": "markdown",
   "metadata": {
    "pycharm": {
     "is_executing": false,
     "name": "#%%\n"
    }
   },
   "source": [
    "# Sample Exact GP from Variational GP\n"
   ]
  },
  {
   "cell_type": "code",
   "execution_count": null,
   "metadata": {
    "pycharm": {
     "is_executing": false,
     "name": "#%%\n"
    }
   },
   "outputs": [],
   "source": [
    "sampled_model = model.sample_gp(likelihood)\n",
    "sampled_model.eval()\n",
    "likelihood.eval()\n",
    "\n",
    "mll = ExactMarginalLogLikelihood(likelihood, sampled_model)\n",
    "\n",
    "def eval(test_x, test_y):\n",
    "    # Set model and likelihood to evaluation mode.\n",
    "    sampled_model.eval()\n",
    "    likelihood.eval()\n",
    "    with torch.no_grad():\n",
    "        pred_f = sampled_model(test_x) \n",
    "        pred_y = likelihood(pred_f)\n",
    "        loss = -mll(pred_f, test_y).sum()\n",
    "        print('MLL call:', loss.item()) \n",
    "        print('Direct Computation:', -pred_y.log_prob(test_y).sum().item() / (num_points // 2))\n",
    "    return pred_y\n",
    "\n",
    "pred_y = eval(test_xu, test_y)"
   ]
  },
  {
   "cell_type": "code",
   "execution_count": null,
   "metadata": {},
   "outputs": [],
   "source": [
    "plot_predictions(train_xu, train_y, test_xu, pred_y)"
   ]
  },
  {
   "cell_type": "code",
   "execution_count": null,
   "metadata": {},
   "outputs": [],
   "source": []
  }
 ],
 "metadata": {
  "kernelspec": {
   "display_name": "Python 3",
   "language": "python",
   "name": "python3"
  },
  "language_info": {
   "codemirror_mode": {
    "name": "ipython",
    "version": 3
   },
   "file_extension": ".py",
   "mimetype": "text/x-python",
   "name": "python",
   "nbconvert_exporter": "python",
   "pygments_lexer": "ipython3",
   "version": "3.6.9"
  },
  "pycharm": {
   "stem_cell": {
    "cell_type": "raw",
    "metadata": {
     "collapsed": false
    },
    "source": []
   }
  }
 },
 "nbformat": 4,
 "nbformat_minor": 1
}
